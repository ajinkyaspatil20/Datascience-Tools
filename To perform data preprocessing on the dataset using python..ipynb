{
  "nbformat": 4,
  "nbformat_minor": 0,
  "metadata": {
    "colab": {
      "provenance": []
    },
    "kernelspec": {
      "name": "python3",
      "display_name": "Python 3"
    },
    "language_info": {
      "name": "python"
    }
  },
  "cells": [
    {
      "cell_type": "markdown",
      "source": [
        "Name :Ajinkya Sunil Patil\n",
        "\n",
        "Roll No :42\n",
        "\n",
        "Div : **D15B**\n",
        "\n",
        "**DMBI Practical 02**\n",
        "\n",
        "**Trip_Dataset**"
      ],
      "metadata": {
        "id": "0Lljt3vO3X0_"
      }
    },
    {
      "cell_type": "markdown",
      "source": [
        "**Aim:** To perform data preprocessing on the dataset using python."
      ],
      "metadata": {
        "id": "aZsX_FntH1JA"
      }
    },
    {
      "cell_type": "markdown",
      "source": [
        "# **Introduction:**\n",
        "\n",
        "Data preprocessing is a crucial step in machine learning and data analysis that involves transforming raw data into a clean and structured format suitable for analysis. Raw datasets often contain missing values, noise, duplicates, or inconsistencies that can negatively impact the performance of machine learning models. Preprocessing helps enhance data quality and ensures better model accuracy and reliability.\n",
        "\n",
        "**Key Steps in Data Preprocessing:**\n",
        "* Handling Missing Data: Filling missing values using mean, median, mode, or predictive techniques.\n",
        "* Removing Duplicates: Eliminating redundant records to maintain data integrity.\n",
        "* Handling Outliers: Detecting and treating outliers using statistical methods.\n",
        "* Encoding Categorical Data: Converting categorical values into numerical formats using label encoding or one-hot encoding.\n",
        "* Feature Scaling: Standardizing or normalizing numerical features to bring them to a uniform scale.\n",
        "* Feature Selection & Extraction: Reducing dimensionality by selecting important features for improved efficiency.\n",
        "\n",
        "These preprocessing techniques ensure that the dataset is well-structured and suitable for further analysis, leading to better predictive performance in machine learning models."
      ],
      "metadata": {
        "id": "ZdJsnCY_H3k-"
      }
    },
    {
      "cell_type": "code",
      "execution_count": null,
      "metadata": {
        "id": "iPaiUOXJh8Kk"
      },
      "outputs": [],
      "source": [
        "import pandas as pd"
      ]
    },
    {
      "cell_type": "code",
      "source": [
        "# Load the dataset\n",
        "file_path = \"/content/unfiltered_travel_data.csv\"  # Ensure correct path in Colab\n",
        "df = pd.read_csv(file_path)"
      ],
      "metadata": {
        "id": "CeT7WpAwiTog"
      },
      "execution_count": null,
      "outputs": []
    },
    {
      "cell_type": "code",
      "source": [
        "df.info()"
      ],
      "metadata": {
        "colab": {
          "base_uri": "https://localhost:8080/"
        },
        "id": "Ed2UY08wjqUB",
        "outputId": "bc6829c9-5e29-44e0-9915-09a161621ddd"
      },
      "execution_count": null,
      "outputs": [
        {
          "output_type": "stream",
          "name": "stdout",
          "text": [
            "<class 'pandas.core.frame.DataFrame'>\n",
            "RangeIndex: 10000 entries, 0 to 9999\n",
            "Data columns (total 10 columns):\n",
            " #   Column              Non-Null Count  Dtype  \n",
            "---  ------              --------------  -----  \n",
            " 0   Traveler_ID         10000 non-null  int64  \n",
            " 1   Destination         10000 non-null  object \n",
            " 2   Travel_Mode         10000 non-null  object \n",
            " 3   Days_of_Stay        10000 non-null  float64\n",
            " 4   Travel_Cost         9505 non-null   float64\n",
            " 5   Age                 9500 non-null   float64\n",
            " 6   Rating              9500 non-null   float64\n",
            " 7   Feedback            9018 non-null   object \n",
            " 8   Booking_Date        10000 non-null  object \n",
            " 9   Is_Repeat_Customer  10000 non-null  int64  \n",
            "dtypes: float64(4), int64(2), object(4)\n",
            "memory usage: 781.4+ KB\n"
          ]
        }
      ]
    },
    {
      "cell_type": "code",
      "source": [
        "df.head()"
      ],
      "metadata": {
        "colab": {
          "base_uri": "https://localhost:8080/",
          "height": 313
        },
        "id": "2Lfl8KPajvWY",
        "outputId": "c18cf663-a979-43c9-b74a-c2763bd73557"
      },
      "execution_count": null,
      "outputs": [
        {
          "output_type": "execute_result",
          "data": {
            "text/plain": [
              "   Traveler_ID Destination Travel_Mode  Days_of_Stay  Travel_Cost   Age  \\\n",
              "0            1      London       Train           2.0          NaN  62.0   \n",
              "1            2      London         Car           8.0        134.0  40.0   \n",
              "2            3      London         Car           6.0       2422.0  59.0   \n",
              "3            4       Dubai      Flight           1.0       4805.0  44.0   \n",
              "4            5       Paris      Flight           7.0       4869.0  27.0   \n",
              "\n",
              "     Rating   Feedback         Booking_Date  Is_Repeat_Customer  \n",
              "0  1.969211  Excellent  2022-01-01 00:00:00                   1  \n",
              "1  3.422692       Good  2022-01-01 01:00:00                   1  \n",
              "2  3.712241  Excellent  2022-01-01 02:00:00                   0  \n",
              "3  1.453112       Good  2022-01-01 03:00:00                   1  \n",
              "4  4.358790       Poor  2022-01-01 04:00:00                   0  "
            ],
            "text/html": [
              "\n",
              "  <div id=\"df-a33ab3f9-b3c6-4b9c-9a9c-d9b7a9bdffa2\" class=\"colab-df-container\">\n",
              "    <div>\n",
              "<style scoped>\n",
              "    .dataframe tbody tr th:only-of-type {\n",
              "        vertical-align: middle;\n",
              "    }\n",
              "\n",
              "    .dataframe tbody tr th {\n",
              "        vertical-align: top;\n",
              "    }\n",
              "\n",
              "    .dataframe thead th {\n",
              "        text-align: right;\n",
              "    }\n",
              "</style>\n",
              "<table border=\"1\" class=\"dataframe\">\n",
              "  <thead>\n",
              "    <tr style=\"text-align: right;\">\n",
              "      <th></th>\n",
              "      <th>Traveler_ID</th>\n",
              "      <th>Destination</th>\n",
              "      <th>Travel_Mode</th>\n",
              "      <th>Days_of_Stay</th>\n",
              "      <th>Travel_Cost</th>\n",
              "      <th>Age</th>\n",
              "      <th>Rating</th>\n",
              "      <th>Feedback</th>\n",
              "      <th>Booking_Date</th>\n",
              "      <th>Is_Repeat_Customer</th>\n",
              "    </tr>\n",
              "  </thead>\n",
              "  <tbody>\n",
              "    <tr>\n",
              "      <th>0</th>\n",
              "      <td>1</td>\n",
              "      <td>London</td>\n",
              "      <td>Train</td>\n",
              "      <td>2.0</td>\n",
              "      <td>NaN</td>\n",
              "      <td>62.0</td>\n",
              "      <td>1.969211</td>\n",
              "      <td>Excellent</td>\n",
              "      <td>2022-01-01 00:00:00</td>\n",
              "      <td>1</td>\n",
              "    </tr>\n",
              "    <tr>\n",
              "      <th>1</th>\n",
              "      <td>2</td>\n",
              "      <td>London</td>\n",
              "      <td>Car</td>\n",
              "      <td>8.0</td>\n",
              "      <td>134.0</td>\n",
              "      <td>40.0</td>\n",
              "      <td>3.422692</td>\n",
              "      <td>Good</td>\n",
              "      <td>2022-01-01 01:00:00</td>\n",
              "      <td>1</td>\n",
              "    </tr>\n",
              "    <tr>\n",
              "      <th>2</th>\n",
              "      <td>3</td>\n",
              "      <td>London</td>\n",
              "      <td>Car</td>\n",
              "      <td>6.0</td>\n",
              "      <td>2422.0</td>\n",
              "      <td>59.0</td>\n",
              "      <td>3.712241</td>\n",
              "      <td>Excellent</td>\n",
              "      <td>2022-01-01 02:00:00</td>\n",
              "      <td>0</td>\n",
              "    </tr>\n",
              "    <tr>\n",
              "      <th>3</th>\n",
              "      <td>4</td>\n",
              "      <td>Dubai</td>\n",
              "      <td>Flight</td>\n",
              "      <td>1.0</td>\n",
              "      <td>4805.0</td>\n",
              "      <td>44.0</td>\n",
              "      <td>1.453112</td>\n",
              "      <td>Good</td>\n",
              "      <td>2022-01-01 03:00:00</td>\n",
              "      <td>1</td>\n",
              "    </tr>\n",
              "    <tr>\n",
              "      <th>4</th>\n",
              "      <td>5</td>\n",
              "      <td>Paris</td>\n",
              "      <td>Flight</td>\n",
              "      <td>7.0</td>\n",
              "      <td>4869.0</td>\n",
              "      <td>27.0</td>\n",
              "      <td>4.358790</td>\n",
              "      <td>Poor</td>\n",
              "      <td>2022-01-01 04:00:00</td>\n",
              "      <td>0</td>\n",
              "    </tr>\n",
              "  </tbody>\n",
              "</table>\n",
              "</div>\n",
              "    <div class=\"colab-df-buttons\">\n",
              "\n",
              "  <div class=\"colab-df-container\">\n",
              "    <button class=\"colab-df-convert\" onclick=\"convertToInteractive('df-a33ab3f9-b3c6-4b9c-9a9c-d9b7a9bdffa2')\"\n",
              "            title=\"Convert this dataframe to an interactive table.\"\n",
              "            style=\"display:none;\">\n",
              "\n",
              "  <svg xmlns=\"http://www.w3.org/2000/svg\" height=\"24px\" viewBox=\"0 -960 960 960\">\n",
              "    <path d=\"M120-120v-720h720v720H120Zm60-500h600v-160H180v160Zm220 220h160v-160H400v160Zm0 220h160v-160H400v160ZM180-400h160v-160H180v160Zm440 0h160v-160H620v160ZM180-180h160v-160H180v160Zm440 0h160v-160H620v160Z\"/>\n",
              "  </svg>\n",
              "    </button>\n",
              "\n",
              "  <style>\n",
              "    .colab-df-container {\n",
              "      display:flex;\n",
              "      gap: 12px;\n",
              "    }\n",
              "\n",
              "    .colab-df-convert {\n",
              "      background-color: #E8F0FE;\n",
              "      border: none;\n",
              "      border-radius: 50%;\n",
              "      cursor: pointer;\n",
              "      display: none;\n",
              "      fill: #1967D2;\n",
              "      height: 32px;\n",
              "      padding: 0 0 0 0;\n",
              "      width: 32px;\n",
              "    }\n",
              "\n",
              "    .colab-df-convert:hover {\n",
              "      background-color: #E2EBFA;\n",
              "      box-shadow: 0px 1px 2px rgba(60, 64, 67, 0.3), 0px 1px 3px 1px rgba(60, 64, 67, 0.15);\n",
              "      fill: #174EA6;\n",
              "    }\n",
              "\n",
              "    .colab-df-buttons div {\n",
              "      margin-bottom: 4px;\n",
              "    }\n",
              "\n",
              "    [theme=dark] .colab-df-convert {\n",
              "      background-color: #3B4455;\n",
              "      fill: #D2E3FC;\n",
              "    }\n",
              "\n",
              "    [theme=dark] .colab-df-convert:hover {\n",
              "      background-color: #434B5C;\n",
              "      box-shadow: 0px 1px 3px 1px rgba(0, 0, 0, 0.15);\n",
              "      filter: drop-shadow(0px 1px 2px rgba(0, 0, 0, 0.3));\n",
              "      fill: #FFFFFF;\n",
              "    }\n",
              "  </style>\n",
              "\n",
              "    <script>\n",
              "      const buttonEl =\n",
              "        document.querySelector('#df-a33ab3f9-b3c6-4b9c-9a9c-d9b7a9bdffa2 button.colab-df-convert');\n",
              "      buttonEl.style.display =\n",
              "        google.colab.kernel.accessAllowed ? 'block' : 'none';\n",
              "\n",
              "      async function convertToInteractive(key) {\n",
              "        const element = document.querySelector('#df-a33ab3f9-b3c6-4b9c-9a9c-d9b7a9bdffa2');\n",
              "        const dataTable =\n",
              "          await google.colab.kernel.invokeFunction('convertToInteractive',\n",
              "                                                    [key], {});\n",
              "        if (!dataTable) return;\n",
              "\n",
              "        const docLinkHtml = 'Like what you see? Visit the ' +\n",
              "          '<a target=\"_blank\" href=https://colab.research.google.com/notebooks/data_table.ipynb>data table notebook</a>'\n",
              "          + ' to learn more about interactive tables.';\n",
              "        element.innerHTML = '';\n",
              "        dataTable['output_type'] = 'display_data';\n",
              "        await google.colab.output.renderOutput(dataTable, element);\n",
              "        const docLink = document.createElement('div');\n",
              "        docLink.innerHTML = docLinkHtml;\n",
              "        element.appendChild(docLink);\n",
              "      }\n",
              "    </script>\n",
              "  </div>\n",
              "\n",
              "\n",
              "<div id=\"df-61d63055-1a4e-4d76-912a-2d31075029b6\">\n",
              "  <button class=\"colab-df-quickchart\" onclick=\"quickchart('df-61d63055-1a4e-4d76-912a-2d31075029b6')\"\n",
              "            title=\"Suggest charts\"\n",
              "            style=\"display:none;\">\n",
              "\n",
              "<svg xmlns=\"http://www.w3.org/2000/svg\" height=\"24px\"viewBox=\"0 0 24 24\"\n",
              "     width=\"24px\">\n",
              "    <g>\n",
              "        <path d=\"M19 3H5c-1.1 0-2 .9-2 2v14c0 1.1.9 2 2 2h14c1.1 0 2-.9 2-2V5c0-1.1-.9-2-2-2zM9 17H7v-7h2v7zm4 0h-2V7h2v10zm4 0h-2v-4h2v4z\"/>\n",
              "    </g>\n",
              "</svg>\n",
              "  </button>\n",
              "\n",
              "<style>\n",
              "  .colab-df-quickchart {\n",
              "      --bg-color: #E8F0FE;\n",
              "      --fill-color: #1967D2;\n",
              "      --hover-bg-color: #E2EBFA;\n",
              "      --hover-fill-color: #174EA6;\n",
              "      --disabled-fill-color: #AAA;\n",
              "      --disabled-bg-color: #DDD;\n",
              "  }\n",
              "\n",
              "  [theme=dark] .colab-df-quickchart {\n",
              "      --bg-color: #3B4455;\n",
              "      --fill-color: #D2E3FC;\n",
              "      --hover-bg-color: #434B5C;\n",
              "      --hover-fill-color: #FFFFFF;\n",
              "      --disabled-bg-color: #3B4455;\n",
              "      --disabled-fill-color: #666;\n",
              "  }\n",
              "\n",
              "  .colab-df-quickchart {\n",
              "    background-color: var(--bg-color);\n",
              "    border: none;\n",
              "    border-radius: 50%;\n",
              "    cursor: pointer;\n",
              "    display: none;\n",
              "    fill: var(--fill-color);\n",
              "    height: 32px;\n",
              "    padding: 0;\n",
              "    width: 32px;\n",
              "  }\n",
              "\n",
              "  .colab-df-quickchart:hover {\n",
              "    background-color: var(--hover-bg-color);\n",
              "    box-shadow: 0 1px 2px rgba(60, 64, 67, 0.3), 0 1px 3px 1px rgba(60, 64, 67, 0.15);\n",
              "    fill: var(--button-hover-fill-color);\n",
              "  }\n",
              "\n",
              "  .colab-df-quickchart-complete:disabled,\n",
              "  .colab-df-quickchart-complete:disabled:hover {\n",
              "    background-color: var(--disabled-bg-color);\n",
              "    fill: var(--disabled-fill-color);\n",
              "    box-shadow: none;\n",
              "  }\n",
              "\n",
              "  .colab-df-spinner {\n",
              "    border: 2px solid var(--fill-color);\n",
              "    border-color: transparent;\n",
              "    border-bottom-color: var(--fill-color);\n",
              "    animation:\n",
              "      spin 1s steps(1) infinite;\n",
              "  }\n",
              "\n",
              "  @keyframes spin {\n",
              "    0% {\n",
              "      border-color: transparent;\n",
              "      border-bottom-color: var(--fill-color);\n",
              "      border-left-color: var(--fill-color);\n",
              "    }\n",
              "    20% {\n",
              "      border-color: transparent;\n",
              "      border-left-color: var(--fill-color);\n",
              "      border-top-color: var(--fill-color);\n",
              "    }\n",
              "    30% {\n",
              "      border-color: transparent;\n",
              "      border-left-color: var(--fill-color);\n",
              "      border-top-color: var(--fill-color);\n",
              "      border-right-color: var(--fill-color);\n",
              "    }\n",
              "    40% {\n",
              "      border-color: transparent;\n",
              "      border-right-color: var(--fill-color);\n",
              "      border-top-color: var(--fill-color);\n",
              "    }\n",
              "    60% {\n",
              "      border-color: transparent;\n",
              "      border-right-color: var(--fill-color);\n",
              "    }\n",
              "    80% {\n",
              "      border-color: transparent;\n",
              "      border-right-color: var(--fill-color);\n",
              "      border-bottom-color: var(--fill-color);\n",
              "    }\n",
              "    90% {\n",
              "      border-color: transparent;\n",
              "      border-bottom-color: var(--fill-color);\n",
              "    }\n",
              "  }\n",
              "</style>\n",
              "\n",
              "  <script>\n",
              "    async function quickchart(key) {\n",
              "      const quickchartButtonEl =\n",
              "        document.querySelector('#' + key + ' button');\n",
              "      quickchartButtonEl.disabled = true;  // To prevent multiple clicks.\n",
              "      quickchartButtonEl.classList.add('colab-df-spinner');\n",
              "      try {\n",
              "        const charts = await google.colab.kernel.invokeFunction(\n",
              "            'suggestCharts', [key], {});\n",
              "      } catch (error) {\n",
              "        console.error('Error during call to suggestCharts:', error);\n",
              "      }\n",
              "      quickchartButtonEl.classList.remove('colab-df-spinner');\n",
              "      quickchartButtonEl.classList.add('colab-df-quickchart-complete');\n",
              "    }\n",
              "    (() => {\n",
              "      let quickchartButtonEl =\n",
              "        document.querySelector('#df-61d63055-1a4e-4d76-912a-2d31075029b6 button');\n",
              "      quickchartButtonEl.style.display =\n",
              "        google.colab.kernel.accessAllowed ? 'block' : 'none';\n",
              "    })();\n",
              "  </script>\n",
              "</div>\n",
              "\n",
              "    </div>\n",
              "  </div>\n"
            ],
            "application/vnd.google.colaboratory.intrinsic+json": {
              "type": "dataframe",
              "variable_name": "df",
              "summary": "{\n  \"name\": \"df\",\n  \"rows\": 10000,\n  \"fields\": [\n    {\n      \"column\": \"Traveler_ID\",\n      \"properties\": {\n        \"dtype\": \"number\",\n        \"std\": 2886,\n        \"min\": 1,\n        \"max\": 10000,\n        \"num_unique_values\": 10000,\n        \"samples\": [\n          6253,\n          4685,\n          1732\n        ],\n        \"semantic_type\": \"\",\n        \"description\": \"\"\n      }\n    },\n    {\n      \"column\": \"Destination\",\n      \"properties\": {\n        \"dtype\": \"category\",\n        \"num_unique_values\": 5,\n        \"samples\": [\n          \"Dubai\",\n          \"New York\",\n          \"Paris\"\n        ],\n        \"semantic_type\": \"\",\n        \"description\": \"\"\n      }\n    },\n    {\n      \"column\": \"Travel_Mode\",\n      \"properties\": {\n        \"dtype\": \"category\",\n        \"num_unique_values\": 4,\n        \"samples\": [\n          \"Car\",\n          \"Bus\",\n          \"Train\"\n        ],\n        \"semantic_type\": \"\",\n        \"description\": \"\"\n      }\n    },\n    {\n      \"column\": \"Days_of_Stay\",\n      \"properties\": {\n        \"dtype\": \"number\",\n        \"std\": 98.73598264369811,\n        \"min\": 1.0,\n        \"max\": 999.0,\n        \"num_unique_values\": 15,\n        \"samples\": [\n          5.0,\n          10.0,\n          2.0\n        ],\n        \"semantic_type\": \"\",\n        \"description\": \"\"\n      }\n    },\n    {\n      \"column\": \"Travel_Cost\",\n      \"properties\": {\n        \"dtype\": \"number\",\n        \"std\": 1418.6514858950668,\n        \"min\": -100.0,\n        \"max\": 4999.0,\n        \"num_unique_values\": 4171,\n        \"samples\": [\n          2251.0,\n          3692.0,\n          2347.0\n        ],\n        \"semantic_type\": \"\",\n        \"description\": \"\"\n      }\n    },\n    {\n      \"column\": \"Age\",\n      \"properties\": {\n        \"dtype\": \"number\",\n        \"std\": 16.39944958453872,\n        \"min\": 18.0,\n        \"max\": 74.0,\n        \"num_unique_values\": 57,\n        \"samples\": [\n          62.0,\n          33.0,\n          38.0\n        ],\n        \"semantic_type\": \"\",\n        \"description\": \"\"\n      }\n    },\n    {\n      \"column\": \"Rating\",\n      \"properties\": {\n        \"dtype\": \"number\",\n        \"std\": 1.1526783250339916,\n        \"min\": 1.0001101196439803,\n        \"max\": 4.999101714949547,\n        \"num_unique_values\": 9500,\n        \"samples\": [\n          3.113771058751749,\n          4.755924087383681,\n          1.9386140401353955\n        ],\n        \"semantic_type\": \"\",\n        \"description\": \"\"\n      }\n    },\n    {\n      \"column\": \"Feedback\",\n      \"properties\": {\n        \"dtype\": \"category\",\n        \"num_unique_values\": 4,\n        \"samples\": [\n          \"Good\",\n          \"Average\",\n          \"Excellent\"\n        ],\n        \"semantic_type\": \"\",\n        \"description\": \"\"\n      }\n    },\n    {\n      \"column\": \"Booking_Date\",\n      \"properties\": {\n        \"dtype\": \"object\",\n        \"num_unique_values\": 10000,\n        \"samples\": [\n          \"2022-09-18 12:00:00\",\n          \"2022-07-15 04:00:00\",\n          \"2022-03-14 03:00:00\"\n        ],\n        \"semantic_type\": \"\",\n        \"description\": \"\"\n      }\n    },\n    {\n      \"column\": \"Is_Repeat_Customer\",\n      \"properties\": {\n        \"dtype\": \"number\",\n        \"std\": 0,\n        \"min\": 0,\n        \"max\": 1,\n        \"num_unique_values\": 2,\n        \"samples\": [\n          0,\n          1\n        ],\n        \"semantic_type\": \"\",\n        \"description\": \"\"\n      }\n    }\n  ]\n}"
            }
          },
          "metadata": {},
          "execution_count": 5
        }
      ]
    },
    {
      "cell_type": "markdown",
      "source": [
        "# **1.Data Cleaning - removing missing values**"
      ],
      "metadata": {
        "id": "n8F2vXXNmPDe"
      }
    },
    {
      "cell_type": "markdown",
      "source": [
        "Missing values in a dataset can affect analysis and machine learning models. Here, we explore different methods to handle missing values in the Titanic dataset and determine the most suitable approach."
      ],
      "metadata": {
        "id": "virIU69iJhH2"
      }
    },
    {
      "cell_type": "code",
      "source": [
        "# Display initial missing values\n",
        "print(\"Missing Values Before Handling:\")\n",
        "print(df.isnull().sum())"
      ],
      "metadata": {
        "colab": {
          "base_uri": "https://localhost:8080/"
        },
        "id": "CiqE6PE1iZ7k",
        "outputId": "36018392-bc2f-49f4-ad7d-bf9dc8db3ff3"
      },
      "execution_count": null,
      "outputs": [
        {
          "output_type": "stream",
          "name": "stdout",
          "text": [
            "Missing Values Before Handling:\n",
            "Traveler_ID             0\n",
            "Destination             0\n",
            "Travel_Mode             0\n",
            "Days_of_Stay            0\n",
            "Travel_Cost           495\n",
            "Age                   500\n",
            "Rating                500\n",
            "Feedback              982\n",
            "Booking_Date            0\n",
            "Is_Repeat_Customer      0\n",
            "dtype: int64\n"
          ]
        }
      ]
    },
    {
      "cell_type": "markdown",
      "source": [
        "**Approach 1. Dropping Missing Values**\n",
        "\n",
        "Remove rows or columns with missing data.\n",
        "\n",
        "When to Use: If a small percentage of data is missing."
      ],
      "metadata": {
        "id": "083nxv3mJtwO"
      }
    },
    {
      "cell_type": "code",
      "source": [
        "# Dropping rows with missing values\n",
        "df_dropped = df.dropna()\n",
        "print(\"\\nAfter Dropping Missing Values:\")\n",
        "print(df_dropped.isnull().sum())\n",
        "print(df_dropped.shape)"
      ],
      "metadata": {
        "colab": {
          "base_uri": "https://localhost:8080/"
        },
        "id": "hjMNyjLwib2X",
        "outputId": "ea53a712-0b3a-4c6b-eb29-71ac93a50f4c"
      },
      "execution_count": null,
      "outputs": [
        {
          "output_type": "stream",
          "name": "stdout",
          "text": [
            "\n",
            "After Dropping Missing Values:\n",
            "Traveler_ID           0\n",
            "Destination           0\n",
            "Travel_Mode           0\n",
            "Days_of_Stay          0\n",
            "Travel_Cost           0\n",
            "Age                   0\n",
            "Rating                0\n",
            "Feedback              0\n",
            "Booking_Date          0\n",
            "Is_Repeat_Customer    0\n",
            "dtype: int64\n",
            "(7734, 10)\n"
          ]
        }
      ]
    },
    {
      "cell_type": "markdown",
      "source": [
        "**Approach 2. Filling with the Mean Value**\n",
        "\n",
        "Replace missing values with the mean (or median) of the column.\n",
        "\n",
        "When to Use:\n",
        "\n",
        "For numeric columns where the data distribution is relatively normal (e.g., Fare).\n",
        "When missing values are few and filling with the mean preserves the overall data distribution."
      ],
      "metadata": {
        "id": "24aL1JHYKF14"
      }
    },
    {
      "cell_type": "code",
      "source": [
        "# Fill numerical columns with mean\n",
        "numerical_cols = [\"Travel_Cost\", \"Age\", \"Rating\"]\n",
        "for col in numerical_cols:\n",
        "    df[col].fillna(df[col].mean(), inplace=True)"
      ],
      "metadata": {
        "colab": {
          "base_uri": "https://localhost:8080/"
        },
        "id": "HY6j3rJEieF3",
        "outputId": "1c1694ab-a93e-4cc5-906e-146812f68487"
      },
      "execution_count": null,
      "outputs": [
        {
          "output_type": "stream",
          "name": "stderr",
          "text": [
            "<ipython-input-8-db71b9606ec1>:4: FutureWarning: A value is trying to be set on a copy of a DataFrame or Series through chained assignment using an inplace method.\n",
            "The behavior will change in pandas 3.0. This inplace method will never work because the intermediate object on which we are setting values always behaves as a copy.\n",
            "\n",
            "For example, when doing 'df[col].method(value, inplace=True)', try using 'df.method({col: value}, inplace=True)' or df[col] = df[col].method(value) instead, to perform the operation inplace on the original object.\n",
            "\n",
            "\n",
            "  df[col].fillna(df[col].mean(), inplace=True)\n"
          ]
        }
      ]
    },
    {
      "cell_type": "markdown",
      "source": [
        "**Approach 3. Filling with a Default Value**\n",
        "\n",
        "Replace missing values with a fixed value (e.g., 0, 'Unknown').\n",
        "\n",
        "When to Use: When missing values represent a category or missing data is negligible (e.g., Cabin)"
      ],
      "metadata": {
        "id": "pGTFlhtiJ-Mu"
      }
    },
    {
      "cell_type": "code",
      "source": [
        "# Fill categorical column with \"Unknown\"\n",
        "df[\"Feedback\"].fillna(\"Unknown\", inplace=True)"
      ],
      "metadata": {
        "id": "x9gLvq41ihhU",
        "colab": {
          "base_uri": "https://localhost:8080/"
        },
        "outputId": "7b15d4c3-d3a8-46d9-9c65-21641836d650"
      },
      "execution_count": null,
      "outputs": [
        {
          "output_type": "stream",
          "name": "stderr",
          "text": [
            "<ipython-input-9-45c18d5e2e97>:2: FutureWarning: A value is trying to be set on a copy of a DataFrame or Series through chained assignment using an inplace method.\n",
            "The behavior will change in pandas 3.0. This inplace method will never work because the intermediate object on which we are setting values always behaves as a copy.\n",
            "\n",
            "For example, when doing 'df[col].method(value, inplace=True)', try using 'df.method({col: value}, inplace=True)' or df[col] = df[col].method(value) instead, to perform the operation inplace on the original object.\n",
            "\n",
            "\n",
            "  df[\"Feedback\"].fillna(\"Unknown\", inplace=True)\n"
          ]
        }
      ]
    },
    {
      "cell_type": "code",
      "source": [
        "# Display the updated missing value count\n",
        "print(\"Missing Values After Handling:\")\n",
        "print(df.isnull().sum())\n",
        "print(df.shape)"
      ],
      "metadata": {
        "colab": {
          "base_uri": "https://localhost:8080/"
        },
        "id": "ioysA4U6itR1",
        "outputId": "52cc9d9f-612a-42d0-a511-6e7bda52b5d7"
      },
      "execution_count": null,
      "outputs": [
        {
          "output_type": "stream",
          "name": "stdout",
          "text": [
            "Missing Values After Handling:\n",
            "Traveler_ID           0\n",
            "Destination           0\n",
            "Travel_Mode           0\n",
            "Days_of_Stay          0\n",
            "Travel_Cost           0\n",
            "Age                   0\n",
            "Rating                0\n",
            "Feedback              0\n",
            "Booking_Date          0\n",
            "Is_Repeat_Customer    0\n",
            "dtype: int64\n",
            "(10000, 10)\n"
          ]
        }
      ]
    },
    {
      "cell_type": "markdown",
      "source": [
        "# **2.Data Cleaning - removing noisy values**\n",
        "Noisy data refers to values that are erroneous or out of the expected range, often caused by data entry errors or unexpected behavior in the data collection process. In this section, we'll explore how noisy data can be identified and handled in the Titanic dataset."
      ],
      "metadata": {
        "id": "hlmIaVK8mHsC"
      }
    },
    {
      "cell_type": "markdown",
      "source": [
        "**Identifying Noisy Data**\n",
        "\n",
        "A. For Numeric Columns (Outliers)\n",
        "\n",
        "Outliers in numeric columns can be detected using statistical methods like the Z-score or Interquartile Range (IQR). Outliers are values significantly higher or lower than the majority of the data.\n",
        "\n",
        "Using IQR to Detect Outliers:"
      ],
      "metadata": {
        "id": "hmV0ml_MK4ob"
      }
    },
    {
      "cell_type": "code",
      "source": [
        "# Function to detect outliers using the IQR method\n",
        "def detect_outliers_iqr(data, column):\n",
        "    Q1 = data[column].quantile(0.25)\n",
        "    Q3 = data[column].quantile(0.75)\n",
        "    IQR = Q3 - Q1\n",
        "    lower_bound = Q1 - 1.5 * IQR\n",
        "    upper_bound = Q3 + 1.5 * IQR\n",
        "\n",
        "    outliers = data[(data[column] < lower_bound) | (data[column] > upper_bound)]\n",
        "    return outliers, lower_bound, upper_bound"
      ],
      "metadata": {
        "id": "lQ0wFRl1i3dI"
      },
      "execution_count": null,
      "outputs": []
    },
    {
      "cell_type": "code",
      "source": [
        "# Detect outliers for numerical columns\n",
        "outliers_travel_cost, lc_travel_cost, uc_travel_cost = detect_outliers_iqr(df, \"Travel_Cost\")\n",
        "outliers_age, lc_age, uc_age = detect_outliers_iqr(df, \"Age\")\n",
        "outliers_rating, lc_rating, uc_rating = detect_outliers_iqr(df, \"Rating\")"
      ],
      "metadata": {
        "id": "NUl4qglolunq"
      },
      "execution_count": null,
      "outputs": []
    },
    {
      "cell_type": "code",
      "source": [
        "# Count of outliers in each column\n",
        "outlier_counts = {\n",
        "    \"Travel_Cost\": len(outliers_travel_cost),\n",
        "    \"Age\": len(outliers_age),\n",
        "    \"Rating\": len(outliers_rating)\n",
        "}\n",
        "\n",
        "outlier_counts"
      ],
      "metadata": {
        "colab": {
          "base_uri": "https://localhost:8080/"
        },
        "id": "DL5uf94qlydH",
        "outputId": "389aecf1-23a6-46d5-a5a7-92e8f6920bd7"
      },
      "execution_count": null,
      "outputs": [
        {
          "output_type": "execute_result",
          "data": {
            "text/plain": [
              "{'Travel_Cost': 0, 'Age': 0, 'Rating': 0}"
            ]
          },
          "metadata": {},
          "execution_count": 13
        }
      ]
    },
    {
      "cell_type": "markdown",
      "source": [
        "# **3.Data Transformation - Converting Numerical to Categorical and Vice Versa**\n",
        "Data transformation is the process of converting attributes (columns) in a dataset from one format or type to another to facilitate analysis or model training. One common transformation is converting numerical attributes to categorical or vice versa, and one-hot encoding categorical features for machine learning models."
      ],
      "metadata": {
        "id": "UczTReL6yELg"
      }
    },
    {
      "cell_type": "markdown",
      "source": [
        "**Converting Numerical Attributes to Categorical**\n",
        "\n",
        "Sometimes, numerical attributes may be better represented as categorical data for analysis or modeling. For example, age groups can be created from continuous age values, or fare prices can be divided into fare ranges.\n",
        "\n",
        "Approach for Converting Numerical Data to Categorical: We can use binning to convert continuous numerical values into discrete categories."
      ],
      "metadata": {
        "id": "vaFXa4pkMIkw"
      }
    },
    {
      "cell_type": "code",
      "source": [
        "bins = [0, 5, 10, 15]\n",
        "labels = ['Short', 'Medium', 'Long']\n",
        "df['Stay_Duration'] = pd.cut(df['Days_of_Stay'], bins=bins, labels=labels)"
      ],
      "metadata": {
        "id": "yfNdJ9Cg4Qtv"
      },
      "execution_count": null,
      "outputs": []
    },
    {
      "cell_type": "code",
      "source": [
        "print(df.head())"
      ],
      "metadata": {
        "colab": {
          "base_uri": "https://localhost:8080/"
        },
        "id": "oMuq7XpJ5D7a",
        "outputId": "d309bf51-e9a0-4b52-c9b7-6373360d81e9"
      },
      "execution_count": null,
      "outputs": [
        {
          "output_type": "stream",
          "name": "stdout",
          "text": [
            "   Traveler_ID Destination Travel_Mode  Days_of_Stay  Travel_Cost   Age  \\\n",
            "0            1      London       Train           2.0  2530.238296  62.0   \n",
            "1            2      London         Car           8.0   134.000000  40.0   \n",
            "2            3      London         Car           6.0  2422.000000  59.0   \n",
            "3            4       Dubai      Flight           1.0  4805.000000  44.0   \n",
            "4            5       Paris      Flight           7.0  4869.000000  27.0   \n",
            "\n",
            "     Rating   Feedback         Booking_Date  Is_Repeat_Customer Stay_Duration  \n",
            "0  1.969211  Excellent  2022-01-01 00:00:00                   1         Short  \n",
            "1  3.422692       Good  2022-01-01 01:00:00                   1        Medium  \n",
            "2  3.712241  Excellent  2022-01-01 02:00:00                   0        Medium  \n",
            "3  1.453112       Good  2022-01-01 03:00:00                   1         Short  \n",
            "4  4.358790       Poor  2022-01-01 04:00:00                   0        Medium  \n"
          ]
        }
      ]
    },
    {
      "cell_type": "markdown",
      "source": [
        "**Converting Categorical Attributes to Numerical**\n",
        "\n",
        "For machine learning models, it's common to convert categorical data into numerical form because models can't interpret non-numeric data.\n",
        "\n",
        "Approach for Converting Categorical Data to Numerical:\n",
        "\n",
        "**One-Hot Encoding: Create binary columns for each category.**"
      ],
      "metadata": {
        "id": "f7DPKFfGMbkO"
      }
    },
    {
      "cell_type": "code",
      "source": [
        "#Categorical to Numerical One-Hot Encoding for nominal categories\n",
        "df = pd.get_dummies(df, columns=['Destination', 'Travel_Mode'], drop_first=True)\n",
        "print(df.head())"
      ],
      "metadata": {
        "colab": {
          "base_uri": "https://localhost:8080/"
        },
        "id": "z0nYcleu5p_K",
        "outputId": "7f0a1bc1-a758-41c5-88c4-5be1ddd8b8c6"
      },
      "execution_count": null,
      "outputs": [
        {
          "output_type": "stream",
          "name": "stdout",
          "text": [
            "   Traveler_ID  Days_of_Stay  Travel_Cost   Age    Rating   Feedback  \\\n",
            "0            1           2.0  2530.238296  62.0  1.969211  Excellent   \n",
            "1            2           8.0   134.000000  40.0  3.422692       Good   \n",
            "2            3           6.0  2422.000000  59.0  3.712241  Excellent   \n",
            "3            4           1.0  4805.000000  44.0  1.453112       Good   \n",
            "4            5           7.0  4869.000000  27.0  4.358790       Poor   \n",
            "\n",
            "          Booking_Date  Is_Repeat_Customer Stay_Duration  Destination_London  \\\n",
            "0  2022-01-01 00:00:00                   1         Short                True   \n",
            "1  2022-01-01 01:00:00                   1        Medium                True   \n",
            "2  2022-01-01 02:00:00                   0        Medium                True   \n",
            "3  2022-01-01 03:00:00                   1         Short               False   \n",
            "4  2022-01-01 04:00:00                   0        Medium               False   \n",
            "\n",
            "   Destination_New York  Destination_Paris  Destination_Tokyo  \\\n",
            "0                 False              False              False   \n",
            "1                 False              False              False   \n",
            "2                 False              False              False   \n",
            "3                 False              False              False   \n",
            "4                 False               True              False   \n",
            "\n",
            "   Travel_Mode_Car  Travel_Mode_Flight  Travel_Mode_Train  \n",
            "0            False               False               True  \n",
            "1             True               False              False  \n",
            "2             True               False              False  \n",
            "3            False                True              False  \n",
            "4            False                True              False  \n"
          ]
        }
      ]
    },
    {
      "cell_type": "markdown",
      "source": [
        "\n",
        "**Label Encoding: Assign each category a unique number.**"
      ],
      "metadata": {
        "id": "kw45CmEPM6fH"
      }
    },
    {
      "cell_type": "code",
      "source": [
        "#Categorical to Numerical Label Encoding for ordinal categories\n",
        "from sklearn.preprocessing import LabelEncoder\n",
        "le = LabelEncoder()\n",
        "df['Feedback'] = le.fit_transform(df['Feedback'])\n"
      ],
      "metadata": {
        "id": "EaiQZINw6Ch8"
      },
      "execution_count": null,
      "outputs": []
    },
    {
      "cell_type": "markdown",
      "source": [
        "# **4.Data Transformation - Data Normalization**\n",
        "Normalization refers to the process of scaling numeric data to fall within a specific range, typically [0, 1], to improve the performance and training stability of machine learning algorithms. It is especially important when features have different units or scales."
      ],
      "metadata": {
        "id": "XK1ZqHHNhXjk"
      }
    },
    {
      "cell_type": "markdown",
      "source": [
        "Min-Max Normalization (Scaling)\n",
        "\n",
        "Min-Max normalization rescales the data to a specific range, usually [0, 1]. The formula is:![image.png](data:image/png;base64,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)\n",
        "are the minimum and maximum values of the feature.\n",
        "\n",
        "Use Case:\n",
        "\n",
        "1.When we want to preserve the relationships in the data, but scale it to a fixed range\n",
        "\n",
        "2.Commonly used in neural networks, which require input features to be on the same scale.\n",
        "\n"
      ],
      "metadata": {
        "id": "xCviIhDcNN6w"
      }
    },
    {
      "cell_type": "code",
      "source": [
        "#Standardize or Normalize Numerical Data: Min-Max Scaling\n",
        "from sklearn.preprocessing import MinMaxScaler\n",
        "scaler = MinMaxScaler()\n",
        "df[['Travel_Cost', 'Age', 'Rating']] = scaler.fit_transform(df[['Travel_Cost', 'Age', 'Rating']])\n",
        "print(df.head())"
      ],
      "metadata": {
        "colab": {
          "base_uri": "https://localhost:8080/"
        },
        "id": "7iei_wENhfC4",
        "outputId": "e95b021e-9536-4f5c-f86e-4c6ee6e0b4e0"
      },
      "execution_count": null,
      "outputs": [
        {
          "output_type": "stream",
          "name": "stdout",
          "text": [
            "   Traveler_ID  Days_of_Stay  Travel_Cost       Age    Rating  Feedback  \\\n",
            "0            1           2.0     0.515834  0.785714  0.242336         1   \n",
            "1            2           8.0     0.045891  0.392857  0.605798         2   \n",
            "2            3           6.0     0.494607  0.732143  0.678204         1   \n",
            "3            4           1.0     0.961953  0.464286  0.113279         2   \n",
            "4            5           7.0     0.974505  0.160714  0.839882         3   \n",
            "\n",
            "          Booking_Date  Is_Repeat_Customer Stay_Duration  Destination_London  \\\n",
            "0  2022-01-01 00:00:00                   1         Short                True   \n",
            "1  2022-01-01 01:00:00                   1        Medium                True   \n",
            "2  2022-01-01 02:00:00                   0        Medium                True   \n",
            "3  2022-01-01 03:00:00                   1         Short               False   \n",
            "4  2022-01-01 04:00:00                   0        Medium               False   \n",
            "\n",
            "   Destination_New York  Destination_Paris  Destination_Tokyo  \\\n",
            "0                 False              False              False   \n",
            "1                 False              False              False   \n",
            "2                 False              False              False   \n",
            "3                 False              False              False   \n",
            "4                 False               True              False   \n",
            "\n",
            "   Travel_Mode_Car  Travel_Mode_Flight  Travel_Mode_Train  \n",
            "0            False               False               True  \n",
            "1             True               False              False  \n",
            "2             True               False              False  \n",
            "3            False                True              False  \n",
            "4            False                True              False  \n"
          ]
        }
      ]
    },
    {
      "cell_type": "markdown",
      "source": [
        "**Z-Score Normalization (Standardization)**\n",
        "\n",
        "Z-score normalization, also known as standardization, transforms the data to have a mean of 0 and a standard deviation of 1. The formula is:\n",
        "\n",
        "![image.png](data:image/png;base64,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)\n",
        "\n",
        "\n",
        "σ is the standard deviation of the feature.\n",
        "\n",
        "Use Case:\n",
        "* When data has varying scales and we want to standardize them without any bounding.\n",
        "* Common in algorithms that assume data is normally distributed, such as linear regression, logistic regression, and SVMs."
      ],
      "metadata": {
        "id": "ySKcbBrcOFRN"
      }
    },
    {
      "cell_type": "code",
      "source": [
        "#Z-Score Scaling\n",
        "from sklearn.preprocessing import StandardScaler\n",
        "scaler = StandardScaler()\n",
        "df[['Travel_Cost', 'Age', 'Rating']] = scaler.fit_transform(df[['Travel_Cost', 'Age', 'Rating']])\n",
        "print(df.head())"
      ],
      "metadata": {
        "colab": {
          "base_uri": "https://localhost:8080/"
        },
        "id": "e1jcRUqLiEQo",
        "outputId": "b457f913-9d0d-484d-f37a-fa3597901446"
      },
      "execution_count": null,
      "outputs": [
        {
          "output_type": "stream",
          "name": "stdout",
          "text": [
            "   Traveler_ID  Days_of_Stay  Travel_Cost       Age    Rating  Feedback  \\\n",
            "0            1           2.0     0.000000  1.002233 -0.926088         1   \n",
            "1            2           8.0    -1.732611 -0.374198  0.367697         2   \n",
            "2            3           6.0    -0.078262  0.814538  0.625433         1   \n",
            "3            4           1.0     1.644777 -0.123938 -1.385483         2   \n",
            "4            5           7.0     1.691052 -1.187544  1.200945         3   \n",
            "\n",
            "          Booking_Date  Is_Repeat_Customer Stay_Duration  Destination_London  \\\n",
            "0  2022-01-01 00:00:00                   1         Short                True   \n",
            "1  2022-01-01 01:00:00                   1        Medium                True   \n",
            "2  2022-01-01 02:00:00                   0        Medium                True   \n",
            "3  2022-01-01 03:00:00                   1         Short               False   \n",
            "4  2022-01-01 04:00:00                   0        Medium               False   \n",
            "\n",
            "   Destination_New York  Destination_Paris  Destination_Tokyo  \\\n",
            "0                 False              False              False   \n",
            "1                 False              False              False   \n",
            "2                 False              False              False   \n",
            "3                 False              False              False   \n",
            "4                 False               True              False   \n",
            "\n",
            "   Travel_Mode_Car  Travel_Mode_Flight  Travel_Mode_Train  \n",
            "0            False               False               True  \n",
            "1             True               False              False  \n",
            "2             True               False              False  \n",
            "3            False                True              False  \n",
            "4            False                True              False  \n"
          ]
        }
      ]
    },
    {
      "cell_type": "markdown",
      "source": [
        "# **5.Data Reduction Attribute-Oriented Induction**\n",
        "Data reduction is the process of reducing the volume of data while maintaining its essential properties. This helps to decrease storage requirements and improve the efficiency of analysis or modeling.\n",
        "\n",
        "One common method of data reduction is\n",
        "\n",
        "Attribute-Oriented Induction (AOI) or\n",
        "Numerosity Reduction,\n",
        "which reduces the number of attributes (columns) in the dataset while retaining the necessary information."
      ],
      "metadata": {
        "id": "8Hq8Ek3FikYg"
      }
    },
    {
      "cell_type": "markdown",
      "source": [
        "**A. Attribute-Oriented Induction (AOI)**\n",
        "\n",
        "Attribute-Oriented Induction (AOI) is a generalization technique where values of attributes are replaced with higher-level concepts or categories. It works by aggregating and simplifying the data to reduce its complexity while preserving important information.\n",
        "\n",
        "Approach for AOI:\n",
        "\n",
        "* Identify categorical attributes with multiple unique values.\n",
        "* Replace those values with higher-level categories or ranges.\n",
        "* For numerical data, you can replace continuous values with a range or bin them.\n",
        "* This is especially useful in cases where certain values or combinations are not significant enough for analysis or modeling."
      ],
      "metadata": {
        "id": "0NmejCigOZt2"
      }
    },
    {
      "cell_type": "code",
      "source": [
        "# Group by 'Is_Repeat_Customer' and aggregate mean for numerical columns\n",
        "aggregated_data = df.groupby('Is_Repeat_Customer')[['Days_of_Stay', 'Travel_Cost', 'Age', 'Rating']].mean()\n",
        "\n",
        "# Display aggregated data\n",
        "print(aggregated_data)"
      ],
      "metadata": {
        "colab": {
          "base_uri": "https://localhost:8080/"
        },
        "id": "v_0zPB_Pipdo",
        "outputId": "e74e029f-9b0b-451a-8f2c-09bffdfb8b6d"
      },
      "execution_count": null,
      "outputs": [
        {
          "output_type": "stream",
          "name": "stdout",
          "text": [
            "                    Days_of_Stay  Travel_Cost       Age    Rating\n",
            "Is_Repeat_Customer                                               \n",
            "0                      17.337641     0.005542 -0.003667 -0.003720\n",
            "1                      17.617916    -0.008173  0.005408  0.005485\n"
          ]
        }
      ]
    },
    {
      "cell_type": "code",
      "source": [
        "# Group by 'Stay_Duration' and calculate mean\n",
        "aggregated_data_by_duration = df.groupby('Stay_Duration')[['Days_of_Stay', 'Travel_Cost', 'Age', 'Rating']].mean()\n",
        "\n",
        "# Display aggregated data\n",
        "print(aggregated_data_by_duration)"
      ],
      "metadata": {
        "colab": {
          "base_uri": "https://localhost:8080/"
        },
        "id": "CVeJr1e4iudl",
        "outputId": "9e6bdc25-29d3-4522-fc19-f64891964dd1"
      },
      "execution_count": null,
      "outputs": [
        {
          "output_type": "stream",
          "name": "stdout",
          "text": [
            "               Days_of_Stay  Travel_Cost       Age    Rating\n",
            "Stay_Duration                                               \n",
            "Short              3.017857    -0.007889  0.021673  0.010283\n",
            "Medium             8.002300    -0.004111 -0.036265 -0.019636\n",
            "Long              12.484451     0.015518  0.022724  0.009950\n"
          ]
        },
        {
          "output_type": "stream",
          "name": "stderr",
          "text": [
            "<ipython-input-21-c8a73ca43fcc>:2: FutureWarning: The default of observed=False is deprecated and will be changed to True in a future version of pandas. Pass observed=False to retain current behavior or observed=True to adopt the future default and silence this warning.\n",
            "  aggregated_data_by_duration = df.groupby('Stay_Duration')[['Days_of_Stay', 'Travel_Cost', 'Age', 'Rating']].mean()\n"
          ]
        }
      ]
    },
    {
      "cell_type": "markdown",
      "source": [
        "**B. Numerosity Reduction**\n",
        "\n",
        "Numerosity reduction involves reducing the number of data points by replacing a large set of data values with smaller, more representative values. It can be achieved by:\n",
        "\n",
        "* Clustering: Grouping similar data points together and representing each cluster with a representative value (e.g., centroid).\n",
        "* Sampling: Selecting a smaller, representative subset of the data points.\n",
        "* Aggregation: Summarizing data by combining multiple values into a single representative value."
      ],
      "metadata": {
        "id": "rb6pkg86Oow6"
      }
    },
    {
      "cell_type": "code",
      "source": [
        "#Numerosity Reduction Remove Duplicate Rows\n",
        "# Remove duplicate rows\n",
        "df = df.drop_duplicates()\n",
        "\n",
        "# Display the shape of the dataset after removing duplicates\n",
        "print(\"Shape after removing duplicates:\", df.shape)"
      ],
      "metadata": {
        "colab": {
          "base_uri": "https://localhost:8080/"
        },
        "id": "81KjaKOoixxi",
        "outputId": "f18712df-2c79-427e-cc0d-f57a97c2ab53"
      },
      "execution_count": null,
      "outputs": [
        {
          "output_type": "stream",
          "name": "stdout",
          "text": [
            "Shape after removing duplicates: (10000, 16)\n"
          ]
        }
      ]
    },
    {
      "cell_type": "markdown",
      "source": [
        "C. Numerosity Reduction through Sampling\n",
        "\n",
        "Sampling involves selecting a smaller subset of the data to represent the entire dataset. This is useful when dealing with large datasets where it's computationally expensive to process all data points.\n",
        "\n",
        "Here’s how we can randomly sample 50% of the data:"
      ],
      "metadata": {
        "id": "deeMy1E4O8oC"
      }
    },
    {
      "cell_type": "code",
      "source": [
        "#Randomly sample the dataset\n",
        "# Sample 50% of the dataset\n",
        "df_sampled = df.sample(frac=0.5, random_state=42)  # Random state ensures reproducibility\n",
        "\n",
        "# Display the shape of the sampled dataset\n",
        "print(\"Shape of sampled dataset:\", df_sampled.shape)\n",
        "\n",
        "# Display the first few rows of the sampled dataset\n",
        "print(df_sampled.head())"
      ],
      "metadata": {
        "colab": {
          "base_uri": "https://localhost:8080/"
        },
        "id": "yjm4Cupri4rM",
        "outputId": "41240a3e-a8ed-4c1e-8897-3a7fbf051353"
      },
      "execution_count": null,
      "outputs": [
        {
          "output_type": "stream",
          "name": "stdout",
          "text": [
            "Shape of sampled dataset: (5000, 16)\n",
            "      Traveler_ID  Days_of_Stay  Travel_Cost       Age    Rating  Feedback  \\\n",
            "6252         6253           6.0     1.249266 -1.625499 -0.541739         1   \n",
            "4684         4685          10.0     1.471967 -0.249068  0.954199         1   \n",
            "1731         1732          14.0     0.000000  1.189928 -0.107670         4   \n",
            "4742         4743          14.0    -0.010295 -1.375239 -0.064153         1   \n",
            "4521         4522          11.0    -1.026187  0.626843 -1.451475         2   \n",
            "\n",
            "             Booking_Date  Is_Repeat_Customer Stay_Duration  \\\n",
            "6252  2022-09-18 12:00:00                   0        Medium   \n",
            "4684  2022-07-15 04:00:00                   0        Medium   \n",
            "1731  2022-03-14 03:00:00                   0          Long   \n",
            "4742  2022-07-17 14:00:00                   0          Long   \n",
            "4521  2022-07-08 09:00:00                   0          Long   \n",
            "\n",
            "      Destination_London  Destination_New York  Destination_Paris  \\\n",
            "6252               False                  True              False   \n",
            "4684               False                 False              False   \n",
            "1731                True                 False              False   \n",
            "4742               False                 False               True   \n",
            "4521               False                 False               True   \n",
            "\n",
            "      Destination_Tokyo  Travel_Mode_Car  Travel_Mode_Flight  \\\n",
            "6252              False            False               False   \n",
            "4684              False            False                True   \n",
            "1731              False            False               False   \n",
            "4742              False             True               False   \n",
            "4521              False            False               False   \n",
            "\n",
            "      Travel_Mode_Train  \n",
            "6252              False  \n",
            "4684              False  \n",
            "1731               True  \n",
            "4742              False  \n",
            "4521               True  \n"
          ]
        }
      ]
    },
    {
      "cell_type": "code",
      "source": [
        "#Save the Processed Dataset\n",
        "processed_file_path = '/content/processed_travel_data.csv'\n",
        "df.to_csv(processed_file_path, index=False)\n",
        "print(f\"Processed dataset saved at {processed_file_path}\")"
      ],
      "metadata": {
        "colab": {
          "base_uri": "https://localhost:8080/"
        },
        "id": "7Yx8kFq8i_oi",
        "outputId": "f8331618-7a18-47ea-ab03-3c9b02a52ecc"
      },
      "execution_count": null,
      "outputs": [
        {
          "output_type": "stream",
          "name": "stdout",
          "text": [
            "Processed dataset saved at /content/processed_travel_data.csv\n"
          ]
        }
      ]
    },
    {
      "cell_type": "code",
      "source": [
        "#Download the Processed Dataset\n",
        "from google.colab import files\n",
        "files.download(processed_file_path)\n"
      ],
      "metadata": {
        "colab": {
          "base_uri": "https://localhost:8080/",
          "height": 17
        },
        "id": "2XqoPKYajGa6",
        "outputId": "37709e34-286e-44bd-b7f9-294a00fd4ecd"
      },
      "execution_count": null,
      "outputs": [
        {
          "output_type": "display_data",
          "data": {
            "text/plain": [
              "<IPython.core.display.Javascript object>"
            ],
            "application/javascript": [
              "\n",
              "    async function download(id, filename, size) {\n",
              "      if (!google.colab.kernel.accessAllowed) {\n",
              "        return;\n",
              "      }\n",
              "      const div = document.createElement('div');\n",
              "      const label = document.createElement('label');\n",
              "      label.textContent = `Downloading \"${filename}\": `;\n",
              "      div.appendChild(label);\n",
              "      const progress = document.createElement('progress');\n",
              "      progress.max = size;\n",
              "      div.appendChild(progress);\n",
              "      document.body.appendChild(div);\n",
              "\n",
              "      const buffers = [];\n",
              "      let downloaded = 0;\n",
              "\n",
              "      const channel = await google.colab.kernel.comms.open(id);\n",
              "      // Send a message to notify the kernel that we're ready.\n",
              "      channel.send({})\n",
              "\n",
              "      for await (const message of channel.messages) {\n",
              "        // Send a message to notify the kernel that we're ready.\n",
              "        channel.send({})\n",
              "        if (message.buffers) {\n",
              "          for (const buffer of message.buffers) {\n",
              "            buffers.push(buffer);\n",
              "            downloaded += buffer.byteLength;\n",
              "            progress.value = downloaded;\n",
              "          }\n",
              "        }\n",
              "      }\n",
              "      const blob = new Blob(buffers, {type: 'application/binary'});\n",
              "      const a = document.createElement('a');\n",
              "      a.href = window.URL.createObjectURL(blob);\n",
              "      a.download = filename;\n",
              "      div.appendChild(a);\n",
              "      a.click();\n",
              "      div.remove();\n",
              "    }\n",
              "  "
            ]
          },
          "metadata": {}
        },
        {
          "output_type": "display_data",
          "data": {
            "text/plain": [
              "<IPython.core.display.Javascript object>"
            ],
            "application/javascript": [
              "download(\"download_71832d45-74da-4a54-baf6-6e16be3f053e\", \"processed_travel_data.csv\", 1370286)"
            ]
          },
          "metadata": {}
        }
      ]
    },
    {
      "cell_type": "code",
      "source": [
        "df = pd.read_csv('/content/processed_travel_data.csv')"
      ],
      "metadata": {
        "id": "6nP5HN088RJf"
      },
      "execution_count": null,
      "outputs": []
    },
    {
      "cell_type": "markdown",
      "source": [
        "#**Conclusion:**\n",
        "\n",
        "Data preprocessing helps clean and organize raw data, making it suitable for analysis and machine learning. By handling missing values, duplicates, and scaling features, we improve the accuracy and reliability of our models."
      ],
      "metadata": {
        "id": "nXdbNhZoO_90"
      }
    }
  ]
}